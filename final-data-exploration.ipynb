{
 "cells": [
  {
   "cell_type": "markdown",
   "metadata": {},
   "source": [
    "Lots and lots and lots of thanks to Stack overflow for some of the figures and text-processing."
   ]
  },
  {
   "cell_type": "markdown",
   "metadata": {},
   "source": [
    "### Importing all necessary libraries"
   ]
  },
  {
   "cell_type": "code",
   "execution_count": 1,
   "metadata": {},
   "outputs": [
    {
     "name": "stderr",
     "output_type": "stream",
     "text": [
      "/anaconda3/lib/python3.6/site-packages/sklearn/externals/joblib/__init__.py:15: DeprecationWarning: sklearn.externals.joblib is deprecated in 0.21 and will be removed in 0.23. Please import this functionality directly from joblib, which can be installed with: pip install joblib. If this warning is raised when loading pickled models, you may need to re-serialize those models with scikit-learn 0.21+.\n",
      "  warnings.warn(msg, category=DeprecationWarning)\n"
     ]
    }
   ],
   "source": [
    "import numpy as np\n",
    "\n",
    "import pandas as pd\n",
    "import string\n",
    "import re\n",
    "import matplotlib.pyplot as plt\n",
    "import seaborn as sns\n",
    "import pickle\n",
    "from sklearn.externals import joblib\n",
    "\n",
    "from sklearn.feature_extraction.text import TfidfVectorizer,CountVectorizer,TfidfTransformer\n",
    "from sklearn.feature_selection import chi2\n",
    "from sklearn.linear_model import LogisticRegression\n",
    "from sklearn.model_selection import train_test_split\n",
    "from sklearn.model_selection import GridSearchCV, RandomizedSearchCV\n",
    "from sklearn.naive_bayes import MultinomialNB\n",
    "from sklearn.tree import DecisionTreeClassifier\n",
    "from sklearn.ensemble import RandomForestClassifier\n",
    "from sklearn.ensemble import GradientBoostingClassifier\n",
    "from sklearn.ensemble import AdaBoostClassifier\n",
    "\n",
    "\n",
    "from sklearn.metrics import recall_score, precision_score, f1_score, accuracy_score,confusion_matrix, roc_auc_score,roc_curve,auc\n",
    "\n",
    "from sklearn.pipeline import Pipeline"
   ]
  },
  {
   "cell_type": "markdown",
   "metadata": {},
   "source": [
    "# Data Pre-processing"
   ]
  },
  {
   "cell_type": "markdown",
   "metadata": {},
   "source": [
    "I first converted the xml file to json using for easier work in Pandas."
   ]
  },
  {
   "cell_type": "code",
   "execution_count": 21,
   "metadata": {},
   "outputs": [
    {
     "data": {
      "text/plain": [
       "UNKNOWN           315\n",
       "NON-SMOKER         82\n",
       "PAST SMOKER        47\n",
       "CURRENT SMOKER     46\n",
       "SMOKER             12\n",
       "Name: smoking_status, dtype: int64"
      ]
     },
     "execution_count": 21,
     "metadata": {},
     "output_type": "execute_result"
    }
   ],
   "source": [
    "df0 = pd.read_json(\"./data/smokers_surrogate_all.json\")\n",
    "# Joined the training data with ground truth for better data\n",
    "df = df0.copy()\n",
    "df = df.T\n",
    "df = df.reset_index()\n",
    "df.columns = ['id', 'smoking_status','description']\n",
    "df.smoking_status.value_counts()"
   ]
  },
  {
   "cell_type": "markdown",
   "metadata": {},
   "source": [
    "### Merging smoker with current smoker category since smoker category has very few records"
   ]
  },
  {
   "cell_type": "code",
   "execution_count": 15,
   "metadata": {},
   "outputs": [],
   "source": [
    "df['smoking_status'] = df['smoking_status'].replace({'SMOKER': 'CURRENT SMOKER'})"
   ]
  },
  {
   "cell_type": "markdown",
   "metadata": {},
   "source": [
    "### Plotting the preliminary data"
   ]
  },
  {
   "cell_type": "code",
   "execution_count": 16,
   "metadata": {},
   "outputs": [
    {
     "data": {
      "image/png": "[encoded data removed]",
      "text/plain": [
       "<Figure size 576x360 with 1 Axes>"
      ]
     },
     "metadata": {},
     "output_type": "display_data"
    }
   ],
   "source": [
    "def CategoryCounts(df,column):\n",
    "    dims = (8, 5)\n",
    "    fig, ax = plt.subplots(figsize=dims)\n",
    "    sns.set(style=\"darkgrid\")\n",
    "    mx = df[column].sort_values()\n",
    "    sns.countplot(mx, data=df,order = df[column].value_counts().index, palette = sns.color_palette(\"RdBu\", n_colors=4))\n",
    "    plt.title(\"Number of records per smoking category\", fontsize=18)\n",
    "    plt.ylabel('# of Occurrences', fontsize=14)\n",
    "    plt.xlabel('Smoking Category', fontsize=14)\n",
    "    plt.show()\n",
    "    \n",
    "CategoryCounts(df,'smoking_status')"
   ]
  },
  {
   "cell_type": "markdown",
   "metadata": {},
   "source": [
    "### Adding new custom stop words"
   ]
  },
  {
   "cell_type": "code",
   "execution_count": 17,
   "metadata": {},
   "outputs": [],
   "source": [
    "stop_words = ['summaryunsigneddisreport','amed','date','patient','mm', 'st','amdischarge','doctor', 'hospital',\n",
    "    'surgery','pain','problem','discharge','admission','i', 'me', 'my', 'myself', 'we', 'our', 'ours', 'ourselves',\n",
    "    'you', \"you're\", \"you've\", \"you'll\", \"you'd\", 'your', 'yours', 'yourself', 'yourselves', 'he', 'him', 'his', \n",
    "    'himself', 'she', \"she's\", 'her', 'hers', 'herself', 'it', \"it's\", 'its', 'itself', 'they', 'them', 'their', \n",
    "    'theirs', 'themselves', 'what', 'which', 'who', 'whom', 'this', 'that', \"that'll\", 'these', 'those', 'am','be',\n",
    "    'a', 'an', 'the', 'and', 'but', 'if', 'or', 'because', 'as', 'of', 'at', 'by', 'for', 'about', 'against', \n",
    "    'between', 'into', 'through', 'above', 'below', 'to', 'from', 'up', 'down', 'in', 'out', 'on', 'off', 'over',\n",
    "    'under', 'further', 'here', 'there', 'when', 'where', 'why', 'how', 'all', 'any', 'both', 'each', 'more', \n",
    "    'most', 'other', 'some', 'such', 'own', 'same', 'so', 'than', 'too', 'very', 's', 't', 'just', 'don', \"don't\",\n",
    "    'should', \"should've\", 'd', 'll', 'm', 'o', 're', 've', 'y', 'ain', 'aren', \"aren't\", 'couldn', \"couldn't\",\n",
    "    'ma', 'needn', \"needn't\", 'shan', \"shan't\", 'shouldn', \"shouldn't\", 'won', \"won't\", 'wouldn', \"wouldn't\"\n",
    "    'aboard','about','above','across','along','an','and','another','any','around','as','at','below','behind','below'\n",
    "    ,'beneath','beside','beyond','certain','down','during','each','following','for','from','inside','into','its',\n",
    "    'like','minus','my','near','next','opposite','outside','out','over','plus','round','so','some','than','through',\n",
    "    'toward','underneath','unlike','yet','under','unsigneded','yregistration']"
   ]
  },
  {
   "cell_type": "code",
   "execution_count": 18,
   "metadata": {},
   "outputs": [],
   "source": [
    "def process_text(description):\n",
    "    # Remove punctuation\n",
    "    no_punc = [char for char in description if char not in string.punctuation]\n",
    "    no_punc=''.join(no_punc)\n",
    "    \n",
    "    # remove numbers from the words\n",
    "    split_num  = re.split('(\\d+)',no_punc)\n",
    "    split_num=' '.join(split_num)\n",
    "    \n",
    "    # remove numbers within the words\n",
    "    new=re.sub(\" \\d+\", \" \", split_num)\n",
    "    \n",
    "    # remove the stop words \n",
    "    swtext= [word.lower() for word in new.split() if word not in [x.upper() for x in stop_words]]\n",
    "    text=' '.join(swtext)\n",
    "    return text"
   ]
  },
  {
   "cell_type": "markdown",
   "metadata": {},
   "source": [
    "### Process the full dataframe"
   ]
  },
  {
   "cell_type": "code",
   "execution_count": 19,
   "metadata": {},
   "outputs": [],
   "source": [
    "df['smoking_cat'] = df['smoking_status'].factorize()[0]\n",
    "category_id_df = df[['smoking_status', 'smoking_cat']].drop_duplicates().sort_values('smoking_cat')\n",
    "category_to_id = dict(category_id_df.values)"
   ]
  },
  {
   "cell_type": "markdown",
   "metadata": {},
   "source": [
    "### TF-IDFing"
   ]
  },
  {
   "cell_type": "code",
   "execution_count": 20,
   "metadata": {},
   "outputs": [
    {
     "name": "stderr",
     "output_type": "stream",
     "text": [
      "/anaconda3/lib/python3.6/site-packages/sklearn/feature_extraction/text.py:300: UserWarning: Your stop_words may be inconsistent with your preprocessing. Tokenizing the stop words generated tokens ['arent', 'couldnt', 'dont', 'neednt', 'shant', 'shes', 'shouldnt', 'shouldve', 'thatll', 'wont', 'wouldntaboard', 'youd', 'youll', 'youre', 'youve'] not in stop_words.\n",
      "  'stop_words.' % sorted(inconsistent))\n"
     ]
    },
    {
     "data": {
      "text/plain": [
       "(502, 26970)"
      ]
     },
     "execution_count": 20,
     "metadata": {},
     "output_type": "execute_result"
    }
   ],
   "source": [
    "tfidf = TfidfVectorizer(sublinear_tf=True, min_df=2, norm='l2', encoding='latin-1', ngram_range=(1, 2),\n",
    "                        preprocessor=process_text,stop_words=stop_words, max_df=0.8)\n",
    "features = tfidf.fit_transform(df.description).toarray()\n",
    "labels = df.smoking_cat\n",
    "features.shape"
   ]
  },
  {
   "cell_type": "markdown",
   "metadata": {},
   "source": [
    "### Getting unigrams and bigrams"
   ]
  },
  {
   "cell_type": "code",
   "execution_count": 22,
   "metadata": {},
   "outputs": [
    {
     "name": "stdout",
     "output_type": "stream",
     "text": [
      "# 'CURRENT SMOKER':\n",
      "  . Most correlated unigrams:\n",
      ". smoker\n",
      ". smokes\n",
      ". smoking\n",
      "  . Most correlated bigrams:\n",
      ". smoking cessation\n",
      ". pm scheduled\n",
      ". smoking history\n",
      "---------------------------\n",
      "# 'NON-SMOKER':\n",
      "  . Most correlated unigrams:\n",
      ". naeelv\n",
      ". tobacco\n",
      ". smoke\n",
      "  . Most correlated bigrams:\n",
      ". denies tobacco\n",
      ". history denies\n",
      ". not smoke\n",
      "---------------------------\n",
      "# 'PAST SMOKER':\n",
      "  . Most correlated unigrams:\n",
      ". smoked\n",
      ". painless\n",
      ". quit\n",
      "  . Most correlated bigrams:\n",
      ". per history\n",
      ". painless jaundice\n",
      ". history quit\n",
      "---------------------------\n",
      "# 'UNKNOWN':\n",
      "  . Most correlated unigrams:\n",
      ". preliminary\n",
      ". information\n",
      ". smoking\n",
      "  . Most correlated bigrams:\n",
      ". please call\n",
      ". pcp name\n",
      ". social history\n",
      "---------------------------\n"
     ]
    }
   ],
   "source": [
    "N = 3\n",
    "\n",
    "for smoking_status, smoking_cat in sorted(category_to_id.items()):\n",
    "    \n",
    "    features_chi2 = chi2(features, labels == smoking_cat)\n",
    "    indices = np.argsort(features_chi2[0])\n",
    "    \n",
    "    feature_names = np.array(tfidf.get_feature_names())[indices]\n",
    "    \n",
    "    unigrams = [v for v in feature_names if len(v.split(' ')) == 1]\n",
    "    bigrams = [v for v in feature_names if len(v.split(' ')) == 2]\n",
    "    \n",
    "    print(\"# '{}':\".format(smoking_status))\n",
    "    print(\"  . Most correlated unigrams:\\n. {}\".format('\\n. '.join(unigrams[-N:])))\n",
    "    print(\"  . Most correlated bigrams:\\n. {}\".format('\\n. '.join(bigrams[-N:])))\n",
    "    print('---------------------------')"
   ]
  },
  {
   "cell_type": "markdown",
   "metadata": {},
   "source": [
    "### Separating the knowns and unknowns"
   ]
  },
  {
   "cell_type": "code",
   "execution_count": 23,
   "metadata": {},
   "outputs": [],
   "source": [
    "def unknown(column):\n",
    "    if 'UNKNOWN' in column :\n",
    "        return 1\n",
    "\n",
    "    else: return 0\n",
    "\n",
    "df[\"smoking_unknown\"] = df[\"smoking_status\"].apply(unknown)"
   ]
  },
  {
   "cell_type": "code",
   "execution_count": 25,
   "metadata": {},
   "outputs": [
    {
     "data": {
      "text/plain": [
       "1    315\n",
       "0    187\n",
       "Name: smoking_unknown, dtype: int64"
      ]
     },
     "execution_count": 25,
     "metadata": {},
     "output_type": "execute_result"
    }
   ],
   "source": [
    "df.smoking_unknown.value_counts()"
   ]
  },
  {
   "cell_type": "code",
   "execution_count": 26,
   "metadata": {},
   "outputs": [],
   "source": [
    "def train_model(classifier, feature_vector_train, label, feature_vector_test, test_label):\n",
    "    \n",
    "    # fit the training dataset on the classifier\n",
    "    classifier.fit(feature_vector_train, label)\n",
    "    \n",
    "    # predict the labels on validation dataset\n",
    "    predictions = classifier.predict(feature_vector_test)\n",
    "    \n",
    "    # get the predicted probabilty of one class \n",
    "    prob = classifier.predict_proba(feature_vector_test)\n",
    "    pred = prob[:,1]\n",
    "    \n",
    "    # output the results\n",
    "    print (\"{} \".format(classifier))\n",
    "    print ('Accuracy:',accuracy_score(predictions, test_label))\n",
    "    print ('Recall:',recall_score(predictions, test_label),)\n",
    "    print ('Precision:',precision_score(predictions, test_label))\n",
    "    print ('F1:',f1_score(predictions, test_label))\n",
    "    print ('ROC:',roc_auc_score(test_label,pred))\n",
    "    print ('CM:',confusion_matrix(predictions, test_label))\n",
    "    \n",
    "    return classifier,accuracy_score(predictions, test_label), recall_score(predictions, test_label),precision_score(predictions, test_label), f1_score(predictions, test_label),roc_auc_score(test_label,pred), confusion_matrix(predictions, test_label),pred"
   ]
  },
  {
   "cell_type": "code",
   "execution_count": 27,
   "metadata": {},
   "outputs": [],
   "source": [
    "def plot_confusion_matrix(cm, xtick, ytick):\n",
    "    print(cm)\n",
    "\n",
    "    # Show confusion matrix in a separate window\n",
    "    fig, ax = plt.subplots(figsize=(4,4))\n",
    "    sns.heatmap(cm, annot=True, fmt='d',xticklabels=xtick,yticklabels=ytick)\n",
    "    plt.title('Confusion matrix')\n",
    "    \n",
    "    plt.ylabel('True label')\n",
    "    plt.xlabel('Predicted label')\n",
    "    plt.show()"
   ]
  },
  {
   "cell_type": "code",
   "execution_count": 28,
   "metadata": {},
   "outputs": [],
   "source": [
    "X  = df['description']\n",
    "y = df['smoking_unknown']"
   ]
  },
  {
   "cell_type": "code",
   "execution_count": 29,
   "metadata": {},
   "outputs": [],
   "source": [
    "X_train,  X_test,  y_train, y_test  =  train_test_split(X,y,test_size=0.25, random_state=42)"
   ]
  },
  {
   "cell_type": "markdown",
   "metadata": {},
   "source": [
    "### Layer 1"
   ]
  },
  {
   "cell_type": "code",
   "execution_count": 31,
   "metadata": {},
   "outputs": [],
   "source": [
    "tfidf_vect = TfidfVectorizer(use_idf= False,norm= 'l2',preprocessor=process_text,ngram_range= (1, 3),\n",
    "                             min_df= 5,max_features= 2000,max_df=0.9)\n",
    "\n",
    "\n",
    "tfidf_vect.fit(X_train)\n",
    "xtrain_tfidf =  tfidf_vect.transform(X_train)\n",
    "xtest_tfidf =  tfidf_vect.transform(X_test)"
   ]
  },
  {
   "cell_type": "markdown",
   "metadata": {},
   "source": [
    "#### Random Forest"
   ]
  },
  {
   "cell_type": "code",
   "execution_count": 33,
   "metadata": {},
   "outputs": [
    {
     "name": "stdout",
     "output_type": "stream",
     "text": [
      "RandomForestClassifier(bootstrap=True, class_weight=None, criterion='gini',\n",
      "                       max_depth=50, max_features=0.2, max_leaf_nodes=None,\n",
      "                       min_impurity_decrease=0.0, min_impurity_split=None,\n",
      "                       min_samples_leaf=1, min_samples_split=5,\n",
      "                       min_weight_fraction_leaf=0.0, n_estimators=266,\n",
      "                       n_jobs=None, oob_score=False, random_state=1, verbose=0,\n",
      "                       warm_start=False) \n",
      "Accuracy: 0.9047619047619048\n",
      "Recall: 0.9375\n",
      "Precision: 0.9146341463414634\n",
      "F1: 0.925925925925926\n",
      "ROC: 0.9739467849223947\n",
      "CM: [[39  7]\n",
      " [ 5 75]]\n"
     ]
    }
   ],
   "source": [
    "rf,accuracy_rf, recall_rf, precision_rf, f1_rf,roc_rf, cm_rf,pred_rf = train_model(RandomForestClassifier\n",
    "                                            (n_estimators= 266,min_samples_split=5,min_samples_leaf= 1,\n",
    "                                             random_state=1,max_features =0.2,max_depth= 50), \n",
    "                                                                        xtrain_tfidf, y_train, xtest_tfidf,y_test)"
   ]
  },
  {
   "cell_type": "code",
   "execution_count": 34,
   "metadata": {},
   "outputs": [
    {
     "name": "stdout",
     "output_type": "stream",
     "text": [
      "[[39  7]\n",
      " [ 5 75]]\n"
     ]
    },
    {
     "data": {
      "image/png": "[encoded data removed]",
      "text/plain": [
       "<Figure size 288x288 with 2 Axes>"
      ]
     },
     "metadata": {},
     "output_type": "display_data"
    }
   ],
   "source": [
    "plot_confusion_matrix(cm_rf, ['Known','Unknown'], ['Known','Unknown'])"
   ]
  },
  {
   "cell_type": "markdown",
   "metadata": {},
   "source": [
    "#### Naive Bayes"
   ]
  },
  {
   "cell_type": "code",
   "execution_count": 36,
   "metadata": {},
   "outputs": [],
   "source": [
    "tfidf_vect = TfidfVectorizer(use_idf= True,norm= 'l2',preprocessor=process_text,ngram_range= (1, 2),\n",
    "                             min_df= 2,max_df=0.8)\n",
    "tfidf_vect.fit(X_train)\n",
    "xtrain_tfidf =  tfidf_vect.transform(X_train)\n",
    "xtest_tfidf =  tfidf_vect.transform(X_test)"
   ]
  },
  {
   "cell_type": "code",
   "execution_count": 37,
   "metadata": {},
   "outputs": [
    {
     "name": "stdout",
     "output_type": "stream",
     "text": [
      "MultinomialNB(alpha=0.1, class_prior=None, fit_prior=True) \n",
      "Accuracy: 0.6587301587301587\n",
      "Recall: 0.8979591836734694\n",
      "Precision: 0.5365853658536586\n",
      "F1: 0.6717557251908397\n",
      "ROC: 0.8151330376940132\n",
      "CM: [[39 38]\n",
      " [ 5 44]]\n"
     ]
    }
   ],
   "source": [
    "nb,accuracy_nb, recall_nb, precision_nb, f1_nb,roc_nb,cm_nb,pred_nb = train_model(MultinomialNB(alpha=0.1),\n",
    "                                                                       xtrain_tfidf, y_train, xtest_tfidf,y_test)"
   ]
  },
  {
   "cell_type": "code",
   "execution_count": 38,
   "metadata": {},
   "outputs": [
    {
     "name": "stdout",
     "output_type": "stream",
     "text": [
      "[[39 38]\n",
      " [ 5 44]]\n"
     ]
    },
    {
     "data": {
      "image/png": "[encoded data removed]",
      "text/plain": [
       "<Figure size 288x288 with 2 Axes>"
      ]
     },
     "metadata": {},
     "output_type": "display_data"
    }
   ],
   "source": [
    "plot_confusion_matrix(cm_nb, ['Known','Unknown'], ['Known','Unknown'])"
   ]
  },
  {
   "cell_type": "markdown",
   "metadata": {},
   "source": [
    "#### Logistic Regression"
   ]
  },
  {
   "cell_type": "code",
   "execution_count": 40,
   "metadata": {},
   "outputs": [],
   "source": [
    "tfidf_vect = TfidfVectorizer(use_idf= True,sublinear_tf= True,norm= 'l2',preprocessor=process_text,\n",
    "                             ngram_range= (1, 3),min_df= 4,max_features=3000,max_df=0.9)\n",
    "tfidf_vect.fit(X_train)\n",
    "xtrain_tfidf =  tfidf_vect.transform(X_train)\n",
    "xtest_tfidf =  tfidf_vect.transform(X_test)"
   ]
  },
  {
   "cell_type": "code",
   "execution_count": 41,
   "metadata": {},
   "outputs": [
    {
     "name": "stdout",
     "output_type": "stream",
     "text": [
      "LogisticRegression(C=1000, class_weight=None, dual=False, fit_intercept=True,\n",
      "                   intercept_scaling=1, l1_ratio=None, max_iter=100,\n",
      "                   multi_class='warn', n_jobs=None, penalty='l1',\n",
      "                   random_state=15325, solver='warn', tol=0.0001, verbose=0,\n",
      "                   warm_start=False) \n",
      "Accuracy: 0.9523809523809523\n",
      "Recall: 0.975\n",
      "Precision: 0.9512195121951219\n",
      "F1: 0.9629629629629629\n",
      "ROC: 0.9830931263858094\n",
      "CM: [[42  4]\n",
      " [ 2 78]]\n"
     ]
    },
    {
     "name": "stderr",
     "output_type": "stream",
     "text": [
      "/anaconda3/lib/python3.6/site-packages/sklearn/linear_model/logistic.py:432: FutureWarning: Default solver will be changed to 'lbfgs' in 0.22. Specify a solver to silence this warning.\n",
      "  FutureWarning)\n"
     ]
    }
   ],
   "source": [
    "lr,accuracy_lr, recall_lr, precision_lr, f1_lr,roc_lr,cm_lr,pred_lr=train_model(LogisticRegression(random_state=15325,penalty='l1',C=1000),xtrain_tfidf, y_train, xtest_tfidf,y_test)\n",
    "\n"
   ]
  },
  {
   "cell_type": "code",
   "execution_count": 42,
   "metadata": {},
   "outputs": [
    {
     "name": "stdout",
     "output_type": "stream",
     "text": [
      "[[42  4]\n",
      " [ 2 78]]\n"
     ]
    },
    {
     "data": {
      "image/png": "[encoded data removed]",
      "text/plain": [
       "<Figure size 288x288 with 2 Axes>"
      ]
     },
     "metadata": {},
     "output_type": "display_data"
    }
   ],
   "source": [
    "plot_confusion_matrix(cm_lr, ['Known','Unknown'], ['Known','Unknown'])"
   ]
  },
  {
   "cell_type": "markdown",
   "metadata": {},
   "source": [
    "#### Gradient Boost"
   ]
  },
  {
   "cell_type": "code",
   "execution_count": 44,
   "metadata": {},
   "outputs": [],
   "source": [
    "tfidf_vect = TfidfVectorizer(use_idf= False,sublinear_tf= True,norm= 'l1',preprocessor=process_text,\n",
    "                             ngram_range= (1, 2),min_df= 3,max_features=7000,max_df=0.8)\n",
    "tfidf_vect.fit(X_train)\n",
    "xtrain_tfidf =  tfidf_vect.transform(X_train)\n",
    "xtest_tfidf =  tfidf_vect.transform(X_test)"
   ]
  },
  {
   "cell_type": "code",
   "execution_count": 45,
   "metadata": {},
   "outputs": [
    {
     "name": "stdout",
     "output_type": "stream",
     "text": [
      "GradientBoostingClassifier(criterion='friedman_mse', init=None,\n",
      "                           learning_rate=0.05, loss='deviance', max_depth=1,\n",
      "                           max_features='auto', max_leaf_nodes=None,\n",
      "                           min_impurity_decrease=0.0, min_impurity_split=None,\n",
      "                           min_samples_leaf=1, min_samples_split=20,\n",
      "                           min_weight_fraction_leaf=0.0, n_estimators=100,\n",
      "                           n_iter_no_change=None, presort='auto',\n",
      "                           random_state=15325, subsample=1.0, tol=0.0001,\n",
      "                           validation_fraction=0.1, verbose=0,\n",
      "                           warm_start=False) \n",
      "Accuracy: 0.9444444444444444\n",
      "Recall: 0.9310344827586207\n",
      "Precision: 0.9878048780487805\n",
      "F1: 0.9585798816568047\n",
      "ROC: 0.9836474501108646\n",
      "CM: [[38  1]\n",
      " [ 6 81]]\n"
     ]
    }
   ],
   "source": [
    "gb,accuracy_gb, recall_gb, precision_gb, f1_gb,roc_gb,cm_gb,pred_gb=train_model(GradientBoostingClassifier(min_samples_leaf= 1,\n",
    "                                 min_samples_split= 20,max_features= 'auto',max_depth=1, learning_rate= 0.05,n_estimators=100,random_state=15325),\n",
    "            xtrain_tfidf, y_train, xtest_tfidf,y_test)"
   ]
  },
  {
   "cell_type": "code",
   "execution_count": 47,
   "metadata": {},
   "outputs": [
    {
     "name": "stdout",
     "output_type": "stream",
     "text": [
      "[[38  1]\n",
      " [ 6 81]]\n"
     ]
    },
    {
     "data": {
      "image/png": "[encoded data removed]",
      "text/plain": [
       "<Figure size 288x288 with 2 Axes>"
      ]
     },
     "metadata": {},
     "output_type": "display_data"
    }
   ],
   "source": [
    "plot_confusion_matrix(cm_gb, ['Known','Unknown'], ['Known','Unknown'])"
   ]
  },
  {
   "cell_type": "markdown",
   "metadata": {},
   "source": [
    "### Drawing ROC "
   ]
  },
  {
   "cell_type": "code",
   "execution_count": 49,
   "metadata": {},
   "outputs": [
    {
     "data": {
      "text/plain": [
       "<Figure size 432x288 with 0 Axes>"
      ]
     },
     "metadata": {},
     "output_type": "display_data"
    },
    {
     "data": {
      "image/png": "[encoded data removed]",
      "text/plain": [
       "<Figure size 576x432 with 1 Axes>"
      ]
     },
     "metadata": {},
     "output_type": "display_data"
    }
   ],
   "source": [
    "plt.figure(0).clf()\n",
    "fig, ax = plt.subplots(figsize=(8,6))\n",
    "plt.title('Receiver Operating Characteristic',fontsize=18)\n",
    "\n",
    "fpr, tpr, thresh = roc_curve(y_test, pred_nb)\n",
    "auc = roc_auc_score(y_test, pred_nb)\n",
    "plt.plot(fpr,tpr,'gray',label=\"NB, auc=\"+str(round(auc, 2)))\n",
    "\n",
    "fpr, tpr, thresh = roc_curve(y_test, pred_rf)\n",
    "auc = roc_auc_score(y_test, pred_rf)\n",
    "plt.plot(fpr,tpr,'black',label=\"RF, auc=\"+str(round(auc, 2)))\n",
    "\n",
    "fpr, tpr, thresh = roc_curve(y_test, pred_gb)\n",
    "auc = roc_auc_score(y_test, pred_gb)\n",
    "plt.plot(fpr,tpr,'blue',label=\"GB, auc=\"+str(round(auc, 2)))\n",
    "\n",
    "fpr, tpr, thresh = roc_curve(y_test, pred_lr)\n",
    "auc = roc_auc_score(y_test, pred_lr)\n",
    "plt.plot(fpr,tpr,'coral',label=\"LR, auc=\"+str(round(auc, 2)))\n",
    "\n",
    "plt.legend(loc = 'lower right',fontsize=14)\n",
    "plt.ylabel('True Positive Rate', fontsize=14)\n",
    "plt.xlabel('False Positive Rate',fontsize=14)\n",
    "\n",
    "plt.show()\n",
    "fig.savefig('layer1roc.jpg')"
   ]
  },
  {
   "cell_type": "markdown",
   "metadata": {},
   "source": [
    "### Layer 2"
   ]
  },
  {
   "cell_type": "code",
   "execution_count": 79,
   "metadata": {},
   "outputs": [
    {
     "data": {
      "text/html": [
       "<div>\n",
       "<style scoped>\n",
       "    .dataframe tbody tr th:only-of-type {\n",
       "        vertical-align: middle;\n",
       "    }\n",
       "\n",
       "    .dataframe tbody tr th {\n",
       "        vertical-align: top;\n",
       "    }\n",
       "\n",
       "    .dataframe thead th {\n",
       "        text-align: right;\n",
       "    }\n",
       "</style>\n",
       "<table border=\"1\" class=\"dataframe\">\n",
       "  <thead>\n",
       "    <tr style=\"text-align: right;\">\n",
       "      <th></th>\n",
       "      <th>id</th>\n",
       "      <th>smoking_status</th>\n",
       "      <th>description</th>\n",
       "      <th>smoking_unknown</th>\n",
       "    </tr>\n",
       "  </thead>\n",
       "  <tbody>\n",
       "    <tr>\n",
       "      <th>0</th>\n",
       "      <td>660</td>\n",
       "      <td>PAST SMOKER</td>\n",
       "      <td>156406283HLGMC721364564723/51cy5/28/1993 12:00...</td>\n",
       "      <td>0</td>\n",
       "    </tr>\n",
       "    <tr>\n",
       "      <th>1</th>\n",
       "      <td>845</td>\n",
       "      <td>CURRENT SMOKER</td>\n",
       "      <td>487197293PUOMC246626240860219760454/26/2003 12...</td>\n",
       "      <td>0</td>\n",
       "    </tr>\n",
       "    <tr>\n",
       "      <th>2</th>\n",
       "      <td>515</td>\n",
       "      <td>CURRENT SMOKER</td>\n",
       "      <td>176318078FIH418969928872/d70h09475611/03/1993 ...</td>\n",
       "      <td>0</td>\n",
       "    </tr>\n",
       "    <tr>\n",
       "      <th>3</th>\n",
       "      <td>562</td>\n",
       "      <td>CURRENT SMOKER</td>\n",
       "      <td>245096078FIH917485812/February99735911/3/1992 ...</td>\n",
       "      <td>0</td>\n",
       "    </tr>\n",
       "    <tr>\n",
       "      <th>4</th>\n",
       "      <td>633</td>\n",
       "      <td>CURRENT SMOKER</td>\n",
       "      <td>237073320FIH974639079712025160501/26/1998 12:0...</td>\n",
       "      <td>0</td>\n",
       "    </tr>\n",
       "  </tbody>\n",
       "</table>\n",
       "</div>"
      ],
      "text/plain": [
       "    id  smoking_status                                        description  \\\n",
       "0  660     PAST SMOKER  156406283HLGMC721364564723/51cy5/28/1993 12:00...   \n",
       "1  845  CURRENT SMOKER  487197293PUOMC246626240860219760454/26/2003 12...   \n",
       "2  515  CURRENT SMOKER  176318078FIH418969928872/d70h09475611/03/1993 ...   \n",
       "3  562  CURRENT SMOKER  245096078FIH917485812/February99735911/3/1992 ...   \n",
       "4  633  CURRENT SMOKER  237073320FIH974639079712025160501/26/1998 12:0...   \n",
       "\n",
       "   smoking_unknown  \n",
       "0                0  \n",
       "1                0  \n",
       "2                0  \n",
       "3                0  \n",
       "4                0  "
      ]
     },
     "execution_count": 79,
     "metadata": {},
     "output_type": "execute_result"
    }
   ],
   "source": [
    "df1=df.copy()\n",
    "secondf=df1[df1.smoking_unknown==0]\n",
    "secondf.head()"
   ]
  },
  {
   "cell_type": "code",
   "execution_count": 80,
   "metadata": {},
   "outputs": [
    {
     "name": "stderr",
     "output_type": "stream",
     "text": [
      "/anaconda3/lib/python3.6/site-packages/ipykernel_launcher.py:7: SettingWithCopyWarning: \n",
      "A value is trying to be set on a copy of a slice from a DataFrame.\n",
      "Try using .loc[row_indexer,col_indexer] = value instead\n",
      "\n",
      "See the caveats in the documentation: http://pandas.pydata.org/pandas-docs/stable/indexing.html#indexing-view-versus-copy\n",
      "  import sys\n"
     ]
    }
   ],
   "source": [
    "def smokerclass(column):\n",
    "    if 'NON-SMOKER' in column :\n",
    "        return 1\n",
    "\n",
    "    else: return 0\n",
    "\n",
    "secondf[\"smoking_nonsmoker\"] = secondf[\"smoking_status\"].apply(smokerclass)"
   ]
  },
  {
   "cell_type": "code",
   "execution_count": 81,
   "metadata": {},
   "outputs": [
    {
     "data": {
      "text/html": [
       "<div>\n",
       "<style scoped>\n",
       "    .dataframe tbody tr th:only-of-type {\n",
       "        vertical-align: middle;\n",
       "    }\n",
       "\n",
       "    .dataframe tbody tr th {\n",
       "        vertical-align: top;\n",
       "    }\n",
       "\n",
       "    .dataframe thead th {\n",
       "        text-align: right;\n",
       "    }\n",
       "</style>\n",
       "<table border=\"1\" class=\"dataframe\">\n",
       "  <thead>\n",
       "    <tr style=\"text-align: right;\">\n",
       "      <th></th>\n",
       "      <th>id</th>\n",
       "      <th>smoking_status</th>\n",
       "      <th>description</th>\n",
       "      <th>smoking_unknown</th>\n",
       "      <th>smoking_nonsmoker</th>\n",
       "    </tr>\n",
       "  </thead>\n",
       "  <tbody>\n",
       "    <tr>\n",
       "      <th>0</th>\n",
       "      <td>660</td>\n",
       "      <td>PAST SMOKER</td>\n",
       "      <td>156406283HLGMC721364564723/51cy5/28/1993 12:00...</td>\n",
       "      <td>0</td>\n",
       "      <td>0</td>\n",
       "    </tr>\n",
       "    <tr>\n",
       "      <th>1</th>\n",
       "      <td>845</td>\n",
       "      <td>CURRENT SMOKER</td>\n",
       "      <td>487197293PUOMC246626240860219760454/26/2003 12...</td>\n",
       "      <td>0</td>\n",
       "      <td>0</td>\n",
       "    </tr>\n",
       "    <tr>\n",
       "      <th>2</th>\n",
       "      <td>515</td>\n",
       "      <td>CURRENT SMOKER</td>\n",
       "      <td>176318078FIH418969928872/d70h09475611/03/1993 ...</td>\n",
       "      <td>0</td>\n",
       "      <td>0</td>\n",
       "    </tr>\n",
       "    <tr>\n",
       "      <th>3</th>\n",
       "      <td>562</td>\n",
       "      <td>CURRENT SMOKER</td>\n",
       "      <td>245096078FIH917485812/February99735911/3/1992 ...</td>\n",
       "      <td>0</td>\n",
       "      <td>0</td>\n",
       "    </tr>\n",
       "    <tr>\n",
       "      <th>4</th>\n",
       "      <td>633</td>\n",
       "      <td>CURRENT SMOKER</td>\n",
       "      <td>237073320FIH974639079712025160501/26/1998 12:0...</td>\n",
       "      <td>0</td>\n",
       "      <td>0</td>\n",
       "    </tr>\n",
       "  </tbody>\n",
       "</table>\n",
       "</div>"
      ],
      "text/plain": [
       "    id  smoking_status                                        description  \\\n",
       "0  660     PAST SMOKER  156406283HLGMC721364564723/51cy5/28/1993 12:00...   \n",
       "1  845  CURRENT SMOKER  487197293PUOMC246626240860219760454/26/2003 12...   \n",
       "2  515  CURRENT SMOKER  176318078FIH418969928872/d70h09475611/03/1993 ...   \n",
       "3  562  CURRENT SMOKER  245096078FIH917485812/February99735911/3/1992 ...   \n",
       "4  633  CURRENT SMOKER  237073320FIH974639079712025160501/26/1998 12:0...   \n",
       "\n",
       "   smoking_unknown  smoking_nonsmoker  \n",
       "0                0                  0  \n",
       "1                0                  0  \n",
       "2                0                  0  \n",
       "3                0                  0  \n",
       "4                0                  0  "
      ]
     },
     "execution_count": 81,
     "metadata": {},
     "output_type": "execute_result"
    }
   ],
   "source": [
    "secondf.head()"
   ]
  },
  {
   "cell_type": "code",
   "execution_count": 82,
   "metadata": {},
   "outputs": [
    {
     "data": {
      "text/plain": [
       "0    105\n",
       "1     82\n",
       "Name: smoking_nonsmoker, dtype: int64"
      ]
     },
     "execution_count": 82,
     "metadata": {},
     "output_type": "execute_result"
    }
   ],
   "source": [
    "secondf.smoking_nonsmoker.value_counts()"
   ]
  },
  {
   "cell_type": "code",
   "execution_count": 83,
   "metadata": {},
   "outputs": [],
   "source": [
    "X  = secondf['description']\n",
    "y = secondf['smoking_nonsmoker']"
   ]
  },
  {
   "cell_type": "code",
   "execution_count": 84,
   "metadata": {},
   "outputs": [],
   "source": [
    "X_train,  X_test,  y_train, y_test  =  train_test_split(X,y,test_size=0.25, random_state=50)"
   ]
  },
  {
   "cell_type": "markdown",
   "metadata": {},
   "source": [
    "#### Random Forest"
   ]
  },
  {
   "cell_type": "code",
   "execution_count": 85,
   "metadata": {},
   "outputs": [],
   "source": [
    "tfidf_vect = TfidfVectorizer(use_idf= True,norm= 'l1',preprocessor=process_text,ngram_range= (1, 3),\n",
    "                             min_df= 2,max_df=0.9)\n",
    "\n",
    "\n",
    "tfidf_vect.fit(X_train)\n",
    "xtrain_tfidf =  tfidf_vect.transform(X_train)\n",
    "xtest_tfidf =  tfidf_vect.transform(X_test)"
   ]
  },
  {
   "cell_type": "code",
   "execution_count": 86,
   "metadata": {},
   "outputs": [
    {
     "name": "stdout",
     "output_type": "stream",
     "text": [
      "RandomForestClassifier(bootstrap=True, class_weight=None, criterion='gini',\n",
      "                       max_depth=30, max_features=0.2, max_leaf_nodes=None,\n",
      "                       min_impurity_decrease=0.0, min_impurity_split=None,\n",
      "                       min_samples_leaf=1, min_samples_split=7,\n",
      "                       min_weight_fraction_leaf=0.0, n_estimators=80,\n",
      "                       n_jobs=None, oob_score=False, random_state=1, verbose=0,\n",
      "                       warm_start=False) \n",
      "Accuracy: 0.7021276595744681\n",
      "Recall: 0.8461538461538461\n",
      "Precision: 0.4782608695652174\n",
      "F1: 0.6111111111111112\n",
      "ROC: 0.8423913043478262\n",
      "CM: [[22 12]\n",
      " [ 2 11]]\n"
     ]
    }
   ],
   "source": [
    "rf, accuracy_rf, recall_rf, precision_rf, f1_rf,roc_rf, cm_rf,pred_rf = train_model(RandomForestClassifier\n",
    "                                            (n_estimators= 80,min_samples_split=7,min_samples_leaf= 1,\n",
    "                                             random_state=1,max_features =0.2,max_depth= 30), \n",
    "                                                                        xtrain_tfidf, y_train, xtest_tfidf,y_test)"
   ]
  },
  {
   "cell_type": "code",
   "execution_count": 87,
   "metadata": {},
   "outputs": [
    {
     "name": "stdout",
     "output_type": "stream",
     "text": [
      "[[22 12]\n",
      " [ 2 11]]\n"
     ]
    },
    {
     "data": {
      "image/png": "[encoded data removed]",
      "text/plain": [
       "<Figure size 288x288 with 2 Axes>"
      ]
     },
     "metadata": {},
     "output_type": "display_data"
    }
   ],
   "source": [
    "plot_confusion_matrix(cm_rf, ['Smoker', 'Non-Smoker'], ['Smoker', 'Non-Smoker'])"
   ]
  },
  {
   "cell_type": "markdown",
   "metadata": {},
   "source": [
    "### Logistic Regression"
   ]
  },
  {
   "cell_type": "code",
   "execution_count": 88,
   "metadata": {},
   "outputs": [],
   "source": [
    "tfidf_vect = TfidfVectorizer(use_idf= True,norm= 'l1',preprocessor=process_text,ngram_range= (1, 3),\n",
    "                             min_df= 2,max_df=0.9)\n",
    "\n",
    "\n",
    "tfidf_vect.fit(X_train)\n",
    "xtrain_tfidf =  tfidf_vect.transform(X_train)\n",
    "xtest_tfidf =  tfidf_vect.transform(X_test)"
   ]
  },
  {
   "cell_type": "code",
   "execution_count": 89,
   "metadata": {},
   "outputs": [
    {
     "name": "stdout",
     "output_type": "stream",
     "text": [
      "LogisticRegression(C=1000, class_weight=None, dual=False, fit_intercept=True,\n",
      "                   intercept_scaling=1, l1_ratio=None, max_iter=100,\n",
      "                   multi_class='warn', n_jobs=None, penalty='l1',\n",
      "                   random_state=15325, solver='warn', tol=0.0001, verbose=0,\n",
      "                   warm_start=False) \n",
      "Accuracy: 0.5957446808510638\n",
      "Recall: 0.5769230769230769\n",
      "Precision: 0.6521739130434783\n",
      "F1: 0.6122448979591837\n",
      "ROC: 0.6702898550724637\n",
      "CM: [[13  8]\n",
      " [11 15]]\n"
     ]
    },
    {
     "name": "stderr",
     "output_type": "stream",
     "text": [
      "/anaconda3/lib/python3.6/site-packages/sklearn/linear_model/logistic.py:432: FutureWarning: Default solver will be changed to 'lbfgs' in 0.22. Specify a solver to silence this warning.\n",
      "  FutureWarning)\n"
     ]
    }
   ],
   "source": [
    "lr, accuracy_lr, recall_lr, precision_lr, f1_lr,roc_lr,cm_lr,pred_lr=train_model(LogisticRegression(random_state=15325,penalty='l1',C=1000),xtrain_tfidf, y_train, xtest_tfidf,y_test)"
   ]
  },
  {
   "cell_type": "code",
   "execution_count": 90,
   "metadata": {},
   "outputs": [
    {
     "name": "stdout",
     "output_type": "stream",
     "text": [
      "[[22 12]\n",
      " [ 2 11]]\n"
     ]
    },
    {
     "data": {
      "image/png": "[encoded data removed]",
      "text/plain": [
       "<Figure size 288x288 with 2 Axes>"
      ]
     },
     "metadata": {},
     "output_type": "display_data"
    }
   ],
   "source": [
    "plot_confusion_matrix(cm_rf, ['Smoker', 'Non-Smoker'], ['Smoker', 'Non-Smoker'])"
   ]
  },
  {
   "cell_type": "markdown",
   "metadata": {},
   "source": [
    "#### Naive Bayes"
   ]
  },
  {
   "cell_type": "code",
   "execution_count": 91,
   "metadata": {},
   "outputs": [],
   "source": [
    "tfidf_vect = TfidfVectorizer(use_idf= False,sublinear_tf=True,norm= 'l2',preprocessor=process_text,ngram_range= (1,5),\n",
    "                             min_df= 2,max_df=0.8)\n",
    "tfidf_vect.fit(X_train)\n",
    "xtrain_tfidf =  tfidf_vect.transform(X_train)\n",
    "xtest_tfidf =  tfidf_vect.transform(X_test)"
   ]
  },
  {
   "cell_type": "code",
   "execution_count": 92,
   "metadata": {},
   "outputs": [
    {
     "name": "stdout",
     "output_type": "stream",
     "text": [
      "MultinomialNB(alpha=0.001, class_prior=None, fit_prior=True) \n",
      "Accuracy: 0.7872340425531915\n",
      "Recall: 0.76\n",
      "Precision: 0.8260869565217391\n",
      "F1: 0.7916666666666667\n",
      "ROC: 0.822463768115942\n",
      "CM: [[18  4]\n",
      " [ 6 19]]\n"
     ]
    }
   ],
   "source": [
    "nb, accuracy_nb, recall_nb, precision_nb, f1_nb,roc_nb,cm_nb,pred_nb = train_model(MultinomialNB(alpha=0.001),\n",
    "                                                                       xtrain_tfidf, y_train, xtest_tfidf,y_test)"
   ]
  },
  {
   "cell_type": "code",
   "execution_count": 93,
   "metadata": {},
   "outputs": [
    {
     "name": "stdout",
     "output_type": "stream",
     "text": [
      "[[18  4]\n",
      " [ 6 19]]\n"
     ]
    },
    {
     "data": {
      "image/png": "[encoded data removed]",
      "text/plain": [
       "<Figure size 288x288 with 2 Axes>"
      ]
     },
     "metadata": {},
     "output_type": "display_data"
    }
   ],
   "source": [
    "plot_confusion_matrix(cm_nb, ['Smoker', 'Non-Smoker'], ['Smoker', 'Non-Smoker'])"
   ]
  },
  {
   "cell_type": "markdown",
   "metadata": {},
   "source": [
    "#### Gradient Boost"
   ]
  },
  {
   "cell_type": "code",
   "execution_count": 94,
   "metadata": {},
   "outputs": [],
   "source": [
    "tfidf_vect = TfidfVectorizer(use_idf= False,sublinear_tf= True,norm= 'l1',preprocessor=process_text,\n",
    "                             ngram_range= (1, 2),min_df= 4,max_features=7000,max_df=0.8)\n",
    "tfidf_vect.fit(X_train)\n",
    "xtrain_tfidf =  tfidf_vect.transform(X_train)\n",
    "xtest_tfidf =  tfidf_vect.transform(X_test)"
   ]
  },
  {
   "cell_type": "code",
   "execution_count": 95,
   "metadata": {},
   "outputs": [
    {
     "name": "stdout",
     "output_type": "stream",
     "text": [
      "GradientBoostingClassifier(criterion='friedman_mse', init=None,\n",
      "                           learning_rate=0.05, loss='deviance', max_depth=1,\n",
      "                           max_features='auto', max_leaf_nodes=None,\n",
      "                           min_impurity_decrease=0.0, min_impurity_split=None,\n",
      "                           min_samples_leaf=1, min_samples_split=20,\n",
      "                           min_weight_fraction_leaf=0.0, n_estimators=100,\n",
      "                           n_iter_no_change=None, presort='auto',\n",
      "                           random_state=15325, subsample=1.0, tol=0.0001,\n",
      "                           validation_fraction=0.1, verbose=0,\n",
      "                           warm_start=False) \n",
      "Accuracy: 0.8297872340425532\n",
      "Recall: 0.8947368421052632\n",
      "Precision: 0.7391304347826086\n",
      "F1: 0.8095238095238095\n",
      "ROC: 0.9365942028985507\n",
      "CM: [[22  6]\n",
      " [ 2 17]]\n"
     ]
    }
   ],
   "source": [
    "gb, accuracy_gb, recall_gb, precision_gb, f1_gb,roc_gb,cm_gb,pred_gb=train_model(GradientBoostingClassifier(min_samples_leaf= 1,\n",
    "                                 min_samples_split= 20,max_features= 'auto',max_depth=1, learning_rate= 0.05,n_estimators=100,random_state=15325),\n",
    "            xtrain_tfidf, y_train, xtest_tfidf,y_test)"
   ]
  },
  {
   "cell_type": "code",
   "execution_count": 96,
   "metadata": {},
   "outputs": [
    {
     "name": "stdout",
     "output_type": "stream",
     "text": [
      "[[22  6]\n",
      " [ 2 17]]\n"
     ]
    },
    {
     "data": {
      "image/png": "[encoded data removed]",
      "text/plain": [
       "<Figure size 288x288 with 2 Axes>"
      ]
     },
     "metadata": {},
     "output_type": "display_data"
    }
   ],
   "source": [
    "plot_confusion_matrix(cm_gb, ['Smoker', 'Non-Smoker'], ['Smoker', 'Non-Smoker'])"
   ]
  },
  {
   "cell_type": "code",
   "execution_count": 97,
   "metadata": {},
   "outputs": [
    {
     "data": {
      "text/plain": [
       "<Figure size 432x288 with 0 Axes>"
      ]
     },
     "metadata": {},
     "output_type": "display_data"
    },
    {
     "data": {
      "image/png": "[encoded data removed]",
      "text/plain": [
       "<Figure size 576x432 with 1 Axes>"
      ]
     },
     "metadata": {},
     "output_type": "display_data"
    }
   ],
   "source": [
    "plt.figure(0).clf()\n",
    "fig, ax = plt.subplots(figsize=(8,6))\n",
    "plt.title('Receiver Operating Characteristic',fontsize=18)\n",
    "ax.set_facecolor('saddlebrown')\n",
    "\n",
    "\n",
    "fpr, tpr, thresh = roc_curve(y_test, pred_nb)\n",
    "auc = roc_auc_score(y_test, pred_nb)\n",
    "plt.plot(fpr,tpr,'olive',label=\"NB, auc=\"+str(round(auc, 2)))\n",
    "\n",
    "\n",
    "fpr, tpr, thresh = roc_curve(y_test, pred_lr)\n",
    "auc = roc_auc_score(y_test, pred_lr)\n",
    "plt.plot(fpr,tpr,'coral',label=\"LR, auc=\"+str(round(auc, 2)))\n",
    "\n",
    "\n",
    "fpr, tpr, thresh = roc_curve(y_test, pred_rf)\n",
    "auc = roc_auc_score(y_test, pred_rf)\n",
    "plt.plot(fpr,tpr,'azure',label=\"RF, auc=\"+str(round(auc, 2)))\n",
    "\n",
    "\n",
    "\n",
    "\n",
    "\n",
    "fpr, tpr, thresh = roc_curve(y_test, pred_gb)\n",
    "auc = roc_auc_score(y_test, pred_gb)\n",
    "plt.plot(fpr,tpr,'black',label=\"GB, auc=\"+str(round(auc, 2)))\n",
    "\n",
    "\n",
    "\n",
    "plt.legend(loc = 'lower right',fontsize=14)\n",
    "plt.ylabel('True Positive Rate', fontsize=14)\n",
    "plt.xlabel('False Positive Rate',fontsize=14)\n",
    "\n",
    "plt.show()\n",
    "fig.savefig('layer2roc.jpg')"
   ]
  },
  {
   "cell_type": "markdown",
   "metadata": {},
   "source": [
    "### Final Layer"
   ]
  },
  {
   "cell_type": "code",
   "execution_count": 98,
   "metadata": {},
   "outputs": [],
   "source": [
    "thirdf = secondf[secondf.smoking_nonsmoker==0]"
   ]
  },
  {
   "cell_type": "code",
   "execution_count": 99,
   "metadata": {},
   "outputs": [
    {
     "name": "stderr",
     "output_type": "stream",
     "text": [
      "/anaconda3/lib/python3.6/site-packages/ipykernel_launcher.py:7: SettingWithCopyWarning: \n",
      "A value is trying to be set on a copy of a slice from a DataFrame.\n",
      "Try using .loc[row_indexer,col_indexer] = value instead\n",
      "\n",
      "See the caveats in the documentation: http://pandas.pydata.org/pandas-docs/stable/indexing.html#indexing-view-versus-copy\n",
      "  import sys\n"
     ]
    }
   ],
   "source": [
    "def smokerclass3rd(column):\n",
    "    if 'PAST SMOKER' in column :\n",
    "        return 1\n",
    "\n",
    "    else :return 0\n",
    "\n",
    "thirdf[\"smoking_past\"] = thirdf[\"smoking_status\"].apply(smokerclass3rd)"
   ]
  },
  {
   "cell_type": "code",
   "execution_count": 101,
   "metadata": {},
   "outputs": [],
   "source": [
    "X  = thirdf['description']\n",
    "y = thirdf['smoking_past']"
   ]
  },
  {
   "cell_type": "code",
   "execution_count": 102,
   "metadata": {},
   "outputs": [],
   "source": [
    "X_train,  X_test,  y_train, y_test  =  train_test_split(X,y,test_size=0.3, random_state=50)"
   ]
  },
  {
   "cell_type": "markdown",
   "metadata": {},
   "source": [
    "#### Random Forest"
   ]
  },
  {
   "cell_type": "code",
   "execution_count": 103,
   "metadata": {},
   "outputs": [],
   "source": [
    "tfidf_vect = TfidfVectorizer(use_idf= True,norm= 'l2',preprocessor=process_text,ngram_range= (2, 5),\n",
    "                             min_df= 2,max_features= 8000,max_df=0.9)\n",
    "\n",
    "\n",
    "tfidf_vect.fit(X_train)\n",
    "xtrain_tfidf =  tfidf_vect.transform(X_train)\n",
    "xtest_tfidf =  tfidf_vect.transform(X_test)"
   ]
  },
  {
   "cell_type": "code",
   "execution_count": 104,
   "metadata": {},
   "outputs": [
    {
     "name": "stdout",
     "output_type": "stream",
     "text": [
      "RandomForestClassifier(bootstrap=True, class_weight=None, criterion='gini',\n",
      "                       max_depth=40, max_features=0.2, max_leaf_nodes=None,\n",
      "                       min_impurity_decrease=0.0, min_impurity_split=None,\n",
      "                       min_samples_leaf=1, min_samples_split=3,\n",
      "                       min_weight_fraction_leaf=0.0, n_estimators=1000,\n",
      "                       n_jobs=None, oob_score=False, random_state=1, verbose=0,\n",
      "                       warm_start=False) \n",
      "Accuracy: 0.59375\n",
      "Recall: 0.5454545454545454\n",
      "Precision: 0.42857142857142855\n",
      "F1: 0.4799999999999999\n",
      "ROC: 0.6130952380952381\n",
      "CM: [[13  8]\n",
      " [ 5  6]]\n"
     ]
    }
   ],
   "source": [
    "rf, accuracy_rf, recall_rf, precision_rf, f1_rf,roc_rf, cm_rf,pred_rf = train_model(RandomForestClassifier\n",
    "                                            (n_estimators= 1000,min_samples_split=3,min_samples_leaf= 1,\n",
    "                                             random_state=1,max_features =0.2,max_depth= 40), \n",
    "                                                                        xtrain_tfidf, y_train, xtest_tfidf,y_test)"
   ]
  },
  {
   "cell_type": "code",
   "execution_count": 106,
   "metadata": {},
   "outputs": [
    {
     "name": "stdout",
     "output_type": "stream",
     "text": [
      "[[13  8]\n",
      " [ 5  6]]\n"
     ]
    },
    {
     "data": {
      "image/png": "[encoded data removed]",
      "text/plain": [
       "<Figure size 288x288 with 2 Axes>"
      ]
     },
     "metadata": {},
     "output_type": "display_data"
    }
   ],
   "source": [
    "plot_confusion_matrix(cm_rf, ['Past Smoker', 'Current Smoker'], ['Past Smoker', 'Current Smoker'])"
   ]
  },
  {
   "cell_type": "markdown",
   "metadata": {},
   "source": [
    "#### Gradient Boosting"
   ]
  },
  {
   "cell_type": "code",
   "execution_count": 108,
   "metadata": {},
   "outputs": [
    {
     "name": "stdout",
     "output_type": "stream",
     "text": [
      "GradientBoostingClassifier(criterion='friedman_mse', init=None,\n",
      "                           learning_rate=0.005, loss='deviance', max_depth=15,\n",
      "                           max_features='sqrt', max_leaf_nodes=None,\n",
      "                           min_impurity_decrease=0.0, min_impurity_split=None,\n",
      "                           min_samples_leaf=1, min_samples_split=2,\n",
      "                           min_weight_fraction_leaf=0.0, n_estimators=200,\n",
      "                           n_iter_no_change=None, presort='auto',\n",
      "                           random_state=15325, subsample=1.0, tol=0.0001,\n",
      "                           validation_fraction=0.1, verbose=0,\n",
      "                           warm_start=False) \n",
      "Accuracy: 0.65625\n",
      "Recall: 0.7142857142857143\n",
      "Precision: 0.35714285714285715\n",
      "F1: 0.4761904761904762\n",
      "ROC: 0.5595238095238095\n",
      "CM: [[16  9]\n",
      " [ 2  5]]\n"
     ]
    }
   ],
   "source": [
    "tfidf_vect = TfidfVectorizer(use_idf= False,sublinear_tf= False,norm= 'l1',preprocessor=process_text,\n",
    "                             ngram_range= (1, 2),min_df= 4,max_features=4000,max_df=0.8)\n",
    "tfidf_vect.fit(X_train)\n",
    "xtrain_tfidf =  tfidf_vect.transform(X_train)\n",
    "xtest_tfidf =  tfidf_vect.transform(X_test)\n",
    "\n",
    "gb, accuracy_gb, recall_gb, precision_gb, f1_gb,roc_gb,cm_gb,pred_gb=train_model(GradientBoostingClassifier(min_samples_leaf= 1,\n",
    "                                 min_samples_split= 2,max_features= 'sqrt',max_depth=15, learning_rate= 0.005,n_estimators=200,random_state=15325),\n",
    "            xtrain_tfidf, y_train, xtest_tfidf,y_test)"
   ]
  },
  {
   "cell_type": "code",
   "execution_count": 109,
   "metadata": {},
   "outputs": [
    {
     "name": "stdout",
     "output_type": "stream",
     "text": [
      "[[16  9]\n",
      " [ 2  5]]\n"
     ]
    },
    {
     "data": {
      "image/png": "[encoded data removed]",
      "text/plain": [
       "<Figure size 288x288 with 2 Axes>"
      ]
     },
     "metadata": {},
     "output_type": "display_data"
    }
   ],
   "source": [
    "plot_confusion_matrix(cm_gb, ['Past Smoker', 'Current Smoker'], ['Past Smoker', 'Current Smoker'])"
   ]
  },
  {
   "cell_type": "markdown",
   "metadata": {},
   "source": [
    "### Logistic Regression"
   ]
  },
  {
   "cell_type": "code",
   "execution_count": 110,
   "metadata": {},
   "outputs": [],
   "source": [
    "tfidf_vect = TfidfVectorizer(use_idf= True,sublinear_tf= False,norm= 'l2',preprocessor=process_text,\n",
    "                             ngram_range= (2,3),min_df= 1,max_features=5000,max_df=0.9)\n",
    "tfidf_vect.fit(X_train)\n",
    "xtrain_tfidf =  tfidf_vect.transform(X_train)\n",
    "xtest_tfidf =  tfidf_vect.transform(X_test)"
   ]
  },
  {
   "cell_type": "code",
   "execution_count": 111,
   "metadata": {},
   "outputs": [
    {
     "name": "stdout",
     "output_type": "stream",
     "text": [
      "LogisticRegression(C=1000, class_weight=None, dual=False, fit_intercept=True,\n",
      "                   intercept_scaling=1, l1_ratio=None, max_iter=100,\n",
      "                   multi_class='warn', n_jobs=None, penalty='l1',\n",
      "                   random_state=15325, solver='warn', tol=0.0001, verbose=0,\n",
      "                   warm_start=False) \n",
      "Accuracy: 0.5\n",
      "Recall: 0.4\n",
      "Precision: 0.2857142857142857\n",
      "F1: 0.3333333333333333\n",
      "ROC: 0.49603174603174605\n",
      "CM: [[12 10]\n",
      " [ 6  4]]\n"
     ]
    },
    {
     "name": "stderr",
     "output_type": "stream",
     "text": [
      "/anaconda3/lib/python3.6/site-packages/sklearn/linear_model/logistic.py:432: FutureWarning: Default solver will be changed to 'lbfgs' in 0.22. Specify a solver to silence this warning.\n",
      "  FutureWarning)\n"
     ]
    }
   ],
   "source": [
    "lr, accuracy_lr, recall_lr, precision_lr, f1_lr,roc_lr,cm_lr,pred_lr=train_model(LogisticRegression(random_state=15325,penalty='l1',C=1000),xtrain_tfidf, y_train, xtest_tfidf,y_test)"
   ]
  },
  {
   "cell_type": "code",
   "execution_count": 112,
   "metadata": {},
   "outputs": [
    {
     "name": "stdout",
     "output_type": "stream",
     "text": [
      "[[12 10]\n",
      " [ 6  4]]\n"
     ]
    },
    {
     "data": {
      "image/png": "[encoded data removed]",
      "text/plain": [
       "<Figure size 288x288 with 2 Axes>"
      ]
     },
     "metadata": {},
     "output_type": "display_data"
    }
   ],
   "source": [
    "plot_confusion_matrix(cm_lr, ['Past Smoker', 'Current Smoker'], ['Past Smoker', 'Current Smoker'])\n"
   ]
  },
  {
   "cell_type": "markdown",
   "metadata": {},
   "source": [
    "### Naive Bayes"
   ]
  },
  {
   "cell_type": "code",
   "execution_count": 113,
   "metadata": {},
   "outputs": [],
   "source": [
    "tfidf_vect = TfidfVectorizer(use_idf= True,sublinear_tf=False,norm= 'l2',preprocessor=process_text,ngram_range= (1,5),\n",
    "                             min_df= 1,max_df=0.8)\n",
    "tfidf_vect.fit(X_train)\n",
    "xtrain_tfidf =  tfidf_vect.transform(X_train)\n",
    "xtest_tfidf =  tfidf_vect.transform(X_test)"
   ]
  },
  {
   "cell_type": "code",
   "execution_count": 114,
   "metadata": {},
   "outputs": [
    {
     "name": "stdout",
     "output_type": "stream",
     "text": [
      "MultinomialNB(alpha=0.0001, class_prior=None, fit_prior=True) \n",
      "Accuracy: 0.65625\n",
      "Recall: 0.6\n",
      "Precision: 0.6428571428571429\n",
      "F1: 0.6206896551724138\n",
      "ROC: 0.6984126984126984\n",
      "CM: [[12  5]\n",
      " [ 6  9]]\n"
     ]
    }
   ],
   "source": [
    "nb, accuracy_nb, recall_nb, precision_nb, f1_nb,roc_nb,cm_nb,pred_nb = train_model(MultinomialNB(alpha=0.0001),\n",
    "                                                                       xtrain_tfidf, y_train, xtest_tfidf,y_test)"
   ]
  },
  {
   "cell_type": "code",
   "execution_count": 115,
   "metadata": {},
   "outputs": [
    {
     "name": "stdout",
     "output_type": "stream",
     "text": [
      "[[12  5]\n",
      " [ 6  9]]\n"
     ]
    },
    {
     "data": {
      "image/png": "[encoded data removed]",
      "text/plain": [
       "<Figure size 288x288 with 2 Axes>"
      ]
     },
     "metadata": {},
     "output_type": "display_data"
    }
   ],
   "source": [
    "plot_confusion_matrix(cm_nb, ['Past Smoker', 'Current Smoker'], ['Past Smoker', 'Current Smoker'])"
   ]
  },
  {
   "cell_type": "code",
   "execution_count": 116,
   "metadata": {},
   "outputs": [
    {
     "data": {
      "text/plain": [
       "<Figure size 432x288 with 0 Axes>"
      ]
     },
     "metadata": {},
     "output_type": "display_data"
    },
    {
     "data": {
      "image/png": "[encoded data removed]",
      "text/plain": [
       "<Figure size 576x432 with 1 Axes>"
      ]
     },
     "metadata": {},
     "output_type": "display_data"
    }
   ],
   "source": [
    "plt.figure(0).clf()\n",
    "fig, ax = plt.subplots(figsize=(8,6))\n",
    "plt.title('Receiver Operating Characteristic',fontsize=18)\n",
    "ax.set_facecolor('darkslategray')\n",
    "\n",
    "\n",
    "\n",
    "\n",
    "\n",
    "fpr, tpr, thresh = roc_curve(y_test, pred_lr)\n",
    "auc = roc_auc_score(y_test, pred_lr)\n",
    "plt.plot(fpr,tpr,'gray',label=\"LR, auc=\"+str(round(auc, 2)))\n",
    "\n",
    "\n",
    "fpr, tpr, thresh = roc_curve(y_test, pred_rf)\n",
    "auc = roc_auc_score(y_test, pred_rf)\n",
    "plt.plot(fpr,tpr,'azure',label=\"RF, auc=\"+str(round(auc, 2)))\n",
    "\n",
    "\n",
    "\n",
    "fpr, tpr, thresh = roc_curve(y_test, pred_nb)\n",
    "auc = roc_auc_score(y_test, pred_nb)\n",
    "plt.plot(fpr,tpr,'black',label=\"NB, auc=\"+str(round(auc, 2)))\n",
    "\n",
    "\n",
    "fpr, tpr, thresh = roc_curve(y_test, pred_gb)\n",
    "auc = roc_auc_score(y_test, pred_gb)\n",
    "plt.plot(fpr,tpr,'yellow',label=\"GB, auc=\"+str(round(auc, 2)))\n",
    "\n",
    "\n",
    "\n",
    "plt.legend(loc = 'lower right',fontsize=14)\n",
    "plt.ylabel('True Positive Rate', fontsize=14)\n",
    "plt.xlabel('False Positive Rate',fontsize=14)\n",
    "\n",
    "plt.show()\n",
    "fig.savefig('layer3roc.jpg')"
   ]
  },
  {
   "cell_type": "code",
   "execution_count": null,
   "metadata": {},
   "outputs": [],
   "source": []
  }
 ],
 "metadata": {
  "kernelspec": {
   "display_name": "Python 3",
   "language": "python",
   "name": "python3"
  },
  "language_info": {
   "codemirror_mode": {
    "name": "ipython",
    "version": 3
   },
   "file_extension": ".py",
   "mimetype": "text/x-python",
   "name": "python",
   "nbconvert_exporter": "python",
   "pygments_lexer": "ipython3",
   "version": "3.6.8"
  }
 },
 "nbformat": 4,
 "nbformat_minor": 2
}
